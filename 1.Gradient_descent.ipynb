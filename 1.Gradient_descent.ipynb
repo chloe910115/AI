{
  "nbformat": 4,
  "nbformat_minor": 0,
  "metadata": {
    "colab": {
      "name": "1.Gradient descent.ipynb",
      "provenance": []
    },
